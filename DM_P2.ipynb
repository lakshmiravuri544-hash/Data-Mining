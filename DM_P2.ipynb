{
 "cells": [
  {
   "cell_type": "code",
   "execution_count": 1,
   "metadata": {
    "colab": {
     "base_uri": "https://localhost:8080/",
     "height": 0
    },
    "id": "MamSNJzWQ_X5",
    "outputId": "ec654d14-47a7-4c6d-a380-a6fa9dcbfefc"
   },
   "outputs": [
    {
     "name": "stdout",
     "output_type": "stream",
     "text": [
      "Mounted at /content/drive\n"
     ]
    }
   ],
   "source": [
    "from google.colab import drive\n",
    "drive.mount('/content/drive')"
   ]
  },
  {
   "cell_type": "code",
   "execution_count": 2,
   "metadata": {
    "id": "4DTjrtZKRARy"
   },
   "outputs": [],
   "source": [
    "import os\n",
    "import cv2\n",
    "import matplotlib.pyplot as plt\n",
    "from PIL import Image\n",
    "from skimage import io\n",
    "from google.colab.patches import cv2_imshow\n",
    "import numpy as np\n",
    "import pandas as pd\n",
    "import math\n",
    "from sklearn.preprocessing import StandardScaler\n",
    "from sklearn import datasets  \n",
    "from sklearn.decomposition import PCA \n",
    "import seaborn as sns  \n",
    "import matplotlib.pyplot as plt\n",
    "from sklearn.model_selection import train_test_split\n",
    "from numpy import array\n",
    "from sklearn.model_selection import KFold\n",
    "from sklearn.metrics import mean_squared_error\n",
    "from sklearn.metrics import confusion_matrix, ConfusionMatrixDisplay\n",
    "from sklearn.metrics import accuracy_score, classification_report\n",
    "from sklearn.neighbors import KNeighborsClassifier\n",
    "from sklearn.ensemble import GradientBoostingClassifier\n",
    "from sklearn.linear_model import Perceptron\n",
    "from sklearn.ensemble import AdaBoostClassifier"
   ]
  },
  {
   "cell_type": "code",
   "execution_count": 3,
   "metadata": {
    "colab": {
     "base_uri": "https://localhost:8080/",
     "height": 423
    },
    "id": "WGiIVcFURAPL",
    "outputId": "3070addb-834d-4883-c9b5-7d7e24ac1f49"
   },
   "outputs": [
    {
     "data": {
      "text/html": [
       "\n",
       "  <div id=\"df-cd413bda-2df9-4152-bb8f-653e7a9126b7\">\n",
       "    <div class=\"colab-df-container\">\n",
       "      <div>\n",
       "<style scoped>\n",
       "    .dataframe tbody tr th:only-of-type {\n",
       "        vertical-align: middle;\n",
       "    }\n",
       "\n",
       "    .dataframe tbody tr th {\n",
       "        vertical-align: top;\n",
       "    }\n",
       "\n",
       "    .dataframe thead th {\n",
       "        text-align: right;\n",
       "    }\n",
       "</style>\n",
       "<table border=\"1\" class=\"dataframe\">\n",
       "  <thead>\n",
       "    <tr style=\"text-align: right;\">\n",
       "      <th></th>\n",
       "      <th>Filename</th>\n",
       "      <th>Label</th>\n",
       "      <th>Species</th>\n",
       "    </tr>\n",
       "  </thead>\n",
       "  <tbody>\n",
       "    <tr>\n",
       "      <th>0</th>\n",
       "      <td>20161207-112417-0.jpg</td>\n",
       "      <td>8</td>\n",
       "      <td>Negative</td>\n",
       "    </tr>\n",
       "    <tr>\n",
       "      <th>1</th>\n",
       "      <td>20161207-112431-0.jpg</td>\n",
       "      <td>8</td>\n",
       "      <td>Negative</td>\n",
       "    </tr>\n",
       "    <tr>\n",
       "      <th>2</th>\n",
       "      <td>20161207-112802-0.jpg</td>\n",
       "      <td>8</td>\n",
       "      <td>Negative</td>\n",
       "    </tr>\n",
       "    <tr>\n",
       "      <th>3</th>\n",
       "      <td>20161207-112812-0.jpg</td>\n",
       "      <td>8</td>\n",
       "      <td>Negative</td>\n",
       "    </tr>\n",
       "    <tr>\n",
       "      <th>4</th>\n",
       "      <td>20170128-101909-0.jpg</td>\n",
       "      <td>8</td>\n",
       "      <td>Negative</td>\n",
       "    </tr>\n",
       "    <tr>\n",
       "      <th>...</th>\n",
       "      <td>...</td>\n",
       "      <td>...</td>\n",
       "      <td>...</td>\n",
       "    </tr>\n",
       "    <tr>\n",
       "      <th>13277</th>\n",
       "      <td>20171025-172145-3.jpg</td>\n",
       "      <td>3</td>\n",
       "      <td>Parthenium</td>\n",
       "    </tr>\n",
       "    <tr>\n",
       "      <th>13278</th>\n",
       "      <td>20171025-172200-3.jpg</td>\n",
       "      <td>3</td>\n",
       "      <td>Parthenium</td>\n",
       "    </tr>\n",
       "    <tr>\n",
       "      <th>13279</th>\n",
       "      <td>20171025-172226-3.jpg</td>\n",
       "      <td>3</td>\n",
       "      <td>Parthenium</td>\n",
       "    </tr>\n",
       "    <tr>\n",
       "      <th>13280</th>\n",
       "      <td>20171025-172236-3.jpg</td>\n",
       "      <td>3</td>\n",
       "      <td>Parthenium</td>\n",
       "    </tr>\n",
       "    <tr>\n",
       "      <th>13281</th>\n",
       "      <td>20171025-172247-3.jpg</td>\n",
       "      <td>3</td>\n",
       "      <td>Parthenium</td>\n",
       "    </tr>\n",
       "  </tbody>\n",
       "</table>\n",
       "<p>13282 rows × 3 columns</p>\n",
       "</div>\n",
       "      <button class=\"colab-df-convert\" onclick=\"convertToInteractive('df-cd413bda-2df9-4152-bb8f-653e7a9126b7')\"\n",
       "              title=\"Convert this dataframe to an interactive table.\"\n",
       "              style=\"display:none;\">\n",
       "        \n",
       "  <svg xmlns=\"http://www.w3.org/2000/svg\" height=\"24px\"viewBox=\"0 0 24 24\"\n",
       "       width=\"24px\">\n",
       "    <path d=\"M0 0h24v24H0V0z\" fill=\"none\"/>\n",
       "    <path d=\"M18.56 5.44l.94 2.06.94-2.06 2.06-.94-2.06-.94-.94-2.06-.94 2.06-2.06.94zm-11 1L8.5 8.5l.94-2.06 2.06-.94-2.06-.94L8.5 2.5l-.94 2.06-2.06.94zm10 10l.94 2.06.94-2.06 2.06-.94-2.06-.94-.94-2.06-.94 2.06-2.06.94z\"/><path d=\"M17.41 7.96l-1.37-1.37c-.4-.4-.92-.59-1.43-.59-.52 0-1.04.2-1.43.59L10.3 9.45l-7.72 7.72c-.78.78-.78 2.05 0 2.83L4 21.41c.39.39.9.59 1.41.59.51 0 1.02-.2 1.41-.59l7.78-7.78 2.81-2.81c.8-.78.8-2.07 0-2.86zM5.41 20L4 18.59l7.72-7.72 1.47 1.35L5.41 20z\"/>\n",
       "  </svg>\n",
       "      </button>\n",
       "      \n",
       "  <style>\n",
       "    .colab-df-container {\n",
       "      display:flex;\n",
       "      flex-wrap:wrap;\n",
       "      gap: 12px;\n",
       "    }\n",
       "\n",
       "    .colab-df-convert {\n",
       "      background-color: #E8F0FE;\n",
       "      border: none;\n",
       "      border-radius: 50%;\n",
       "      cursor: pointer;\n",
       "      display: none;\n",
       "      fill: #1967D2;\n",
       "      height: 32px;\n",
       "      padding: 0 0 0 0;\n",
       "      width: 32px;\n",
       "    }\n",
       "\n",
       "    .colab-df-convert:hover {\n",
       "      background-color: #E2EBFA;\n",
       "      box-shadow: 0px 1px 2px rgba(60, 64, 67, 0.3), 0px 1px 3px 1px rgba(60, 64, 67, 0.15);\n",
       "      fill: #174EA6;\n",
       "    }\n",
       "\n",
       "    [theme=dark] .colab-df-convert {\n",
       "      background-color: #3B4455;\n",
       "      fill: #D2E3FC;\n",
       "    }\n",
       "\n",
       "    [theme=dark] .colab-df-convert:hover {\n",
       "      background-color: #434B5C;\n",
       "      box-shadow: 0px 1px 3px 1px rgba(0, 0, 0, 0.15);\n",
       "      filter: drop-shadow(0px 1px 2px rgba(0, 0, 0, 0.3));\n",
       "      fill: #FFFFFF;\n",
       "    }\n",
       "  </style>\n",
       "\n",
       "      <script>\n",
       "        const buttonEl =\n",
       "          document.querySelector('#df-cd413bda-2df9-4152-bb8f-653e7a9126b7 button.colab-df-convert');\n",
       "        buttonEl.style.display =\n",
       "          google.colab.kernel.accessAllowed ? 'block' : 'none';\n",
       "\n",
       "        async function convertToInteractive(key) {\n",
       "          const element = document.querySelector('#df-cd413bda-2df9-4152-bb8f-653e7a9126b7');\n",
       "          const dataTable =\n",
       "            await google.colab.kernel.invokeFunction('convertToInteractive',\n",
       "                                                     [key], {});\n",
       "          if (!dataTable) return;\n",
       "\n",
       "          const docLinkHtml = 'Like what you see? Visit the ' +\n",
       "            '<a target=\"_blank\" href=https://colab.research.google.com/notebooks/data_table.ipynb>data table notebook</a>'\n",
       "            + ' to learn more about interactive tables.';\n",
       "          element.innerHTML = '';\n",
       "          dataTable['output_type'] = 'display_data';\n",
       "          await google.colab.output.renderOutput(dataTable, element);\n",
       "          const docLink = document.createElement('div');\n",
       "          docLink.innerHTML = docLinkHtml;\n",
       "          element.appendChild(docLink);\n",
       "        }\n",
       "      </script>\n",
       "    </div>\n",
       "  </div>\n",
       "  "
      ],
      "text/plain": [
       "                    Filename  Label     Species\n",
       "0      20161207-112417-0.jpg      8    Negative\n",
       "1      20161207-112431-0.jpg      8    Negative\n",
       "2      20161207-112802-0.jpg      8    Negative\n",
       "3      20161207-112812-0.jpg      8    Negative\n",
       "4      20170128-101909-0.jpg      8    Negative\n",
       "...                      ...    ...         ...\n",
       "13277  20171025-172145-3.jpg      3  Parthenium\n",
       "13278  20171025-172200-3.jpg      3  Parthenium\n",
       "13279  20171025-172226-3.jpg      3  Parthenium\n",
       "13280  20171025-172236-3.jpg      3  Parthenium\n",
       "13281  20171025-172247-3.jpg      3  Parthenium\n",
       "\n",
       "[13282 rows x 3 columns]"
      ]
     },
     "execution_count": 3,
     "metadata": {},
     "output_type": "execute_result"
    }
   ],
   "source": [
    "DF=pd.read_csv('/content/drive/MyDrive/DM P1/Weed-4class-36/Weed-4class-36-labels.csv')\n",
    "DF"
   ]
  },
  {
   "cell_type": "code",
   "execution_count": 4,
   "metadata": {
    "id": "SSKmN-MiRAMz"
   },
   "outputs": [],
   "source": [
    "DF_weed=DF.loc[DF['Species']=='Parthenium']\n",
    "DF_ngt=DF.loc[DF['Species']=='Negative']\n",
    "\n",
    "weed_imgs=list(DF_weed['Filename'])\n",
    "ngt_imgs=list(DF_ngt['Filename'])"
   ]
  },
  {
   "cell_type": "code",
   "execution_count": 5,
   "metadata": {
    "id": "q_Tb9i-JYm0M"
   },
   "outputs": [],
   "source": [
    "ngt_hist=[]\n",
    "wd_hist=[]\n",
    "\n",
    "for img in ngt_imgs[0:9098]:\n",
    "  img_gray = cv2.imread('/content/drive/MyDrive/DM P1/Negatives/'+img,0)\n",
    "  hist, bins = np.histogram(img_gray.ravel(), 256, [0, 256])\n",
    "  ngt_hist.append(hist)\n",
    "\n",
    "for img in ngt_imgs[9099:]:\n",
    "  img_gray = cv2.imread('/content/drive/MyDrive/DM P1/Negatives/'+img,0)\n",
    "  hist, bins = np.histogram(img_gray.ravel(), 256, [0, 256])\n",
    "  ngt_hist.append(hist)\n",
    "\n",
    "for img in weed_imgs:\n",
    "  img_gray = cv2.imread('/content/drive/MyDrive/DM P1/Weed-4class-36/'+img,0)\n",
    "  hist, bins = np.histogram(img_gray.ravel(), 256, [0, 256])\n",
    "  wd_hist.append(hist)"
   ]
  },
  {
   "cell_type": "code",
   "execution_count": 6,
   "metadata": {
    "id": "GD1WXuX9Y56A"
   },
   "outputs": [],
   "source": [
    "X_ngt=ngt_hist\n",
    "X_wd=wd_hist\n",
    "\n",
    "y_ngt=list(DF_ngt['Label'])\n",
    "y_ngt=y_ngt[0:9105]\n",
    "y_wd=list(DF_weed['Label'])"
   ]
  },
  {
   "cell_type": "markdown",
   "metadata": {
    "id": "kabKAX5WLVVc"
   },
   "source": [
    "(Model Selection) Split the dataset into a training set and a test set. For each class (weed and non-weed),\n",
    "perform a training/test split of 80/20. Perform 5-fold cross-validation on the training set for k-Nearest\n",
    "Neighbor Classifiers such that 𝑘 = 1, 3, 5, 7 on the dataset. (2 points)"
   ]
  },
  {
   "cell_type": "code",
   "execution_count": 7,
   "metadata": {
    "id": "f44lYEt-dL0Z"
   },
   "outputs": [],
   "source": [
    "X_ngt_train, X_ngt_test, y_ngt_train, y_ngt_test = train_test_split(X_ngt, y_ngt, stratify=y_ngt, test_size=0.2, random_state=42)\n",
    "X_wd_train, X_wd_test, y_wd_train, y_wd_test = train_test_split(X_wd, y_wd, stratify=y_wd, test_size=0.2, random_state=42)"
   ]
  },
  {
   "cell_type": "code",
   "execution_count": 8,
   "metadata": {
    "id": "QTW7Ca6utoF0"
   },
   "outputs": [],
   "source": [
    "X_train=X_ngt_train+X_wd_train\n",
    "y_train=y_ngt_train+y_wd_train\n",
    "\n",
    "X_test=X_ngt_test+X_wd_test\n",
    "y_test=y_ngt_test+y_wd_test\n",
    "\n",
    "X_train=np.array(X_train)\n",
    "y_train=np.array(y_train)\n",
    "X_test=np.array(X_test)\n",
    "y_test=np.array(y_test)"
   ]
  },
  {
   "cell_type": "code",
   "execution_count": 9,
   "metadata": {
    "colab": {
     "base_uri": "https://localhost:8080/",
     "height": 0
    },
    "id": "7o2yvl8q6_nT",
    "outputId": "da3da08f-410b-4b62-9e12-abffe3468960"
   },
   "outputs": [
    {
     "name": "stdout",
     "output_type": "stream",
     "text": [
      "Mean Validation error: [8.579188277316996, 6.678189808150736, 6.431215299198034, 6.209137782652063]\n"
     ]
    }
   ],
   "source": [
    "cv = KFold(n_splits=5, shuffle=True)\n",
    "K_classifiers = [1, 3, 5, 7]\n",
    "mean_val_error=[]\n",
    "\n",
    "for K_classifier in K_classifiers:\n",
    "  val_accuracy=[]\n",
    "  for train_idx, val_idx in cv.split(X_train):\n",
    "\n",
    "        X_cv_train, X_cv_val = X_train[train_idx], X_train[val_idx]\n",
    "        y_cv_train, y_cv_val = y_train[train_idx], y_train[val_idx]\n",
    "\n",
    "        knn = KNeighborsClassifier(n_neighbors=K_classifier)\n",
    "\n",
    "        knn.fit(X_cv_train, y_cv_train)\n",
    "\n",
    "        y_pred = knn.predict(X_cv_val)\n",
    "\n",
    "        val_accuracy.append(accuracy_score(y_cv_val, y_pred))\n",
    "\n",
    "  mean_val_error.append((1-(np.mean(val_accuracy)))*100)\n",
    "\n",
    "print('Mean Validation error: '+str(mean_val_error))"
   ]
  },
  {
   "cell_type": "markdown",
   "metadata": {
    "id": "YpLDHvhPjNVq"
   },
   "source": [
    "https://scikit-learn.org/stable/modules/cross_validation.html\n",
    "\n",
    "https://scikit-learn.org/stable/modules/generated/sklearn.neighbors.KNeighborsClassifier.html#sklearn.neighbors.KNeighborsClassifier"
   ]
  },
  {
   "cell_type": "markdown",
   "metadata": {
    "id": "mVGeBlAngJjc"
   },
   "source": [
    "• Plot a graph (x-axis: k; y-axis: mean validation error (%)). Which 𝑘 has the lowest mean error?\n",
    "(1 points)"
   ]
  },
  {
   "cell_type": "code",
   "execution_count": 10,
   "metadata": {
    "colab": {
     "base_uri": "https://localhost:8080/",
     "height": 0
    },
    "id": "vgc-VdFU6T4E",
    "outputId": "1d5603bb-550f-434d-a8df-62cc65da4a0c"
   },
   "outputs": [
    {
     "data": {
      "text/plain": [
       "[8.579188277316996, 6.678189808150736, 6.431215299198034, 6.209137782652063]"
      ]
     },
     "execution_count": 10,
     "metadata": {},
     "output_type": "execute_result"
    }
   ],
   "source": [
    "mean_val_error"
   ]
  },
  {
   "cell_type": "markdown",
   "metadata": {
    "id": "bNiJKk_R7AJu"
   },
   "source": [
    "K=7 has the lowest mean validation error"
   ]
  },
  {
   "cell_type": "code",
   "execution_count": 11,
   "metadata": {
    "colab": {
     "base_uri": "https://localhost:8080/",
     "height": 295
    },
    "id": "SoyaDuzd6-5q",
    "outputId": "efdbf80e-39ae-4934-c388-aead5cf45dad"
   },
   "outputs": [
    {
     "data": {
      "image/png": "[encoded data removed]",
      "text/plain": [
       "<Figure size 432x288 with 1 Axes>"
      ]
     },
     "metadata": {
      "needs_background": "light"
     },
     "output_type": "display_data"
    }
   ],
   "source": [
    "plt.plot(K_classifiers, mean_val_error, marker='o')\n",
    "\n",
    "plt.xlabel('K')\n",
    "plt.ylabel('Validation Error')\n",
    "plt.title('Validation Error vs. K')\n",
    "\n",
    "plt.show()"
   ]
  },
  {
   "cell_type": "markdown",
   "metadata": {
    "id": "8VV2hiVVN502"
   },
   "source": [
    "• Use the 𝑘 value with the lowest mean error for your k-Nearest Neighbor classifier. What is the test\n",
    "error? (1 point)"
   ]
  },
  {
   "cell_type": "code",
   "execution_count": 12,
   "metadata": {
    "colab": {
     "base_uri": "https://localhost:8080/",
     "height": 470
    },
    "id": "Od6TjH8V8_UZ",
    "outputId": "7da066d5-7924-4b2b-daf4-79281bda7eab"
   },
   "outputs": [
    {
     "data": {
      "image/png": "[encoded data removed]",
      "text/plain": [
       "<Figure size 432x288 with 2 Axes>"
      ]
     },
     "metadata": {
      "needs_background": "light"
     },
     "output_type": "display_data"
    },
    {
     "name": "stdout",
     "output_type": "stream",
     "text": [
      "Test error: 5.4787759131293186\n",
      "Classifcation Report: \n",
      "              precision    recall  f1-score   support\n",
      "\n",
      "           3       0.79      0.62      0.70       205\n",
      "           8       0.96      0.98      0.97      1821\n",
      "\n",
      "    accuracy                           0.95      2026\n",
      "   macro avg       0.88      0.80      0.83      2026\n",
      "weighted avg       0.94      0.95      0.94      2026\n",
      "\n"
     ]
    }
   ],
   "source": [
    "cv = KFold(n_splits=5, shuffle=True)\n",
    "\n",
    "for train_idx, val_idx in cv.split(X_train):\n",
    "\n",
    "        X_cv_train, X_cv_val = X_train[train_idx], X_train[val_idx]\n",
    "        y_cv_train, y_cv_val = y_train[train_idx], y_train[val_idx]\n",
    "\n",
    "        knn = KNeighborsClassifier(n_neighbors = 7)\n",
    "\n",
    "        knn.fit(X_cv_train, y_cv_train)\n",
    "\n",
    "y_test_pred=knn.predict(X_test)\n",
    "\n",
    "Label_names = []\n",
    "for labl in knn.classes_:\n",
    "  if labl==3:\n",
    "    Label_names.append('Weed Class')\n",
    "  else:\n",
    "    Label_names.append('Negative Class')\n",
    "\n",
    "cm = confusion_matrix(y_test, y_test_pred, labels=knn.classes_)\n",
    "test_accuracy=accuracy_score(y_test,y_test_pred)\n",
    "test_error=(1-test_accuracy)*100\n",
    "disp = ConfusionMatrixDisplay(confusion_matrix=cm,display_labels=Label_names)\n",
    "disp.plot()\n",
    "\n",
    "plt.show()\n",
    "print('Test error: '+str(test_error))\n",
    "print('Classifcation Report: ')\n",
    "print(classification_report(y_test,y_test_pred))"
   ]
  },
  {
   "cell_type": "markdown",
   "metadata": {
    "id": "ofbEeJK2Bkqa"
   },
   "source": [
    "Test error is 5.48%"
   ]
  },
  {
   "cell_type": "markdown",
   "metadata": {
    "id": "OvQCfinJkKeL"
   },
   "source": [
    "https://scikit-learn.org/stable/modules/generated/sklearn.neighbors.KNeighborsClassifier.html#sklearn.neighbors.KNeighborsClassifier"
   ]
  },
  {
   "cell_type": "markdown",
   "metadata": {
    "id": "222s7aHxN8Vu"
   },
   "source": [
    "\n",
    "3. (Performance Comparison) Use images from all four weed classes (ignore negative class). Convert the\n",
    "images to grayscale pixel intensity histograms."
   ]
  },
  {
   "cell_type": "code",
   "execution_count": 13,
   "metadata": {
    "id": "1aIRGmyiTs33"
   },
   "outputs": [],
   "source": [
    "DF_part=DF.loc[DF['Species']=='Parthenium']\n",
    "DF_lant=DF.loc[DF['Species']=='Lantana']\n",
    "DF_snake=DF.loc[DF['Species']=='Snake weed']\n",
    "DF_siam=DF.loc[DF['Species']=='Siam weed']\n",
    "\n",
    "part_imgs=list(DF_part['Filename'])\n",
    "lant_imgs=list(DF_lant['Filename'])\n",
    "snake_imgs=list(DF_snake['Filename'])\n",
    "siam_imgs=list(DF_siam['Filename'])"
   ]
  },
  {
   "cell_type": "code",
   "execution_count": 14,
   "metadata": {
    "id": "8Tlry2U8UzXC"
   },
   "outputs": [],
   "source": [
    "part_hist=[]\n",
    "lant_hist=[]\n",
    "snake_hist=[]\n",
    "siam_hist=[]\n",
    "\n",
    "for img in part_imgs:\n",
    "  img_gray = cv2.imread('/content/drive/MyDrive/DM P1/Weed-4class-36/'+img,0)\n",
    "  hist, bins = np.histogram(img_gray.ravel(), 256, [0, 256])\n",
    "  part_hist.append(hist)\n",
    "\n",
    "for img in lant_imgs:\n",
    "  img_gray = cv2.imread('/content/drive/MyDrive/DM P1/Weed-4class-36/'+img,0)\n",
    "  hist, bins = np.histogram(img_gray.ravel(), 256, [0, 256])\n",
    "  lant_hist.append(hist)\n",
    "\n",
    "for img in snake_imgs:\n",
    "  img_gray = cv2.imread('/content/drive/MyDrive/DM P1/Weed-4class-36/'+img,0)\n",
    "  hist, bins = np.histogram(img_gray.ravel(), 256, [0, 256])\n",
    "  snake_hist.append(hist)\n",
    "\n",
    "for img in siam_imgs:\n",
    "  img_gray = cv2.imread('/content/drive/MyDrive/DM P1/Weed-4class-36/'+img,0)\n",
    "  hist, bins = np.histogram(img_gray.ravel(), 256, [0, 256])\n",
    "  siam_hist.append(hist)"
   ]
  },
  {
   "cell_type": "code",
   "execution_count": 15,
   "metadata": {
    "id": "r69f2hjDVN9f"
   },
   "outputs": [],
   "source": [
    "X_part=part_hist\n",
    "X_lant=lant_hist\n",
    "X_snake=snake_hist\n",
    "X_siam=siam_hist\n",
    "\n",
    "y_part=list(DF_part['Label'])\n",
    "y_lant=list(DF_lant['Label'])\n",
    "y_snake=list(DF_snake['Label'])\n",
    "y_siam=list(DF_siam['Label'])"
   ]
  },
  {
   "cell_type": "markdown",
   "metadata": {
    "id": "veVi8-zEPJsy"
   },
   "source": [
    "Split dataset into a training set and a test set. For each\n",
    "class, perform a training/test split of 80/20."
   ]
  },
  {
   "cell_type": "code",
   "execution_count": 16,
   "metadata": {
    "id": "gjulGbxEWSVH"
   },
   "outputs": [],
   "source": [
    "X_part_train, X_part_test, y_part_train, y_part_test = train_test_split(X_part, y_part, stratify=y_part, test_size=0.2, random_state=42)\n",
    "X_lant_train, X_lant_test, y_lant_train, y_lant_test = train_test_split(X_lant, y_lant, stratify=y_lant, test_size=0.2, random_state=42)\n",
    "X_snake_train, X_snake_test, y_snake_train, y_snake_test = train_test_split(X_snake, y_snake, stratify=y_snake, test_size=0.2, random_state=42)\n",
    "X_siam_train, X_siam_test, y_siam_train, y_siam_test = train_test_split(X_siam, y_siam, stratify=y_siam, test_size=0.2, random_state=42)"
   ]
  },
  {
   "cell_type": "code",
   "execution_count": 17,
   "metadata": {
    "id": "irEq1rQLX_MZ"
   },
   "outputs": [],
   "source": [
    "X_train=X_part_train+X_lant_train+X_snake_train+X_siam_train\n",
    "y_train=y_part_train+y_lant_train+y_snake_train+y_siam_train\n",
    "\n",
    "X_test=X_part_test+X_lant_test+X_snake_test+X_siam_test\n",
    "y_test=y_part_test+y_lant_test+y_snake_test+y_siam_test\n",
    "\n",
    "X_train=np.array(X_train)\n",
    "y_train=np.array(y_train)\n",
    "X_test=np.array(X_test)\n",
    "y_test=np.array(y_test)"
   ]
  },
  {
   "cell_type": "markdown",
   "metadata": {
    "id": "_lvimdkIPOs8"
   },
   "source": [
    "Perform 5-fold cross-validation on the 4-class classification\n",
    "using the three classification methods (available on canvas) assigned to you. Plot the confusion matrices\n",
    "for the three approaches (clearly label the classes) using the test set (See Figure 1). (If you use code\n",
    "from any website, please do proper referencing. You will get 0 point for this assignment without proper\n",
    "referencing) (3 points)\n",
    "\n",
    "\n",
    "Gradient Boosted Decision Tree\n"
   ]
  },
  {
   "cell_type": "code",
   "execution_count": 18,
   "metadata": {
    "colab": {
     "base_uri": "https://localhost:8080/",
     "height": 539
    },
    "id": "9RvfiTsSX0FW",
    "outputId": "376c873e-8eae-4e93-f9af-7572bfc0be43"
   },
   "outputs": [
    {
     "data": {
      "image/png": "[encoded data removed]",
      "text/plain": [
       "<Figure size 432x288 with 2 Axes>"
      ]
     },
     "metadata": {
      "needs_background": "light"
     },
     "output_type": "display_data"
    },
    {
     "name": "stdout",
     "output_type": "stream",
     "text": [
      "Validation accuracies: [71.55688622754491, 72.30538922155688, 69.16167664670658, 70.05988023952095, 65.6671664167916]\n",
      "Mean validation accuracy: 69.75019975042417\n",
      "Test Accuracy: 70.72879330943847\n",
      "Classifcation Report: \n",
      "              precision    recall  f1-score   support\n",
      "\n",
      "           1       0.61      0.61      0.61       213\n",
      "           3       0.85      0.74      0.79       205\n",
      "           6       0.70      0.81      0.75       215\n",
      "           7       0.70      0.68      0.69       204\n",
      "\n",
      "    accuracy                           0.71       837\n",
      "   macro avg       0.71      0.71      0.71       837\n",
      "weighted avg       0.71      0.71      0.71       837\n",
      "\n"
     ]
    }
   ],
   "source": [
    "cv = KFold(n_splits=5, shuffle=True)\n",
    "val_accuracy=[]\n",
    "\n",
    "for train_idx, val_idx in cv.split(X_train):\n",
    "\n",
    "        X_cv_train, X_cv_val = X_train[train_idx], X_train[val_idx]\n",
    "        y_cv_train, y_cv_val = y_train[train_idx], y_train[val_idx]\n",
    "\n",
    "        gbd=GradientBoostingClassifier(n_estimators=500,learning_rate=0.05,random_state=100,max_features=4, max_depth=4 )\n",
    "\n",
    "        gbd.fit(X_cv_train, y_cv_train)\n",
    "\n",
    "        y_pred = gbd.predict(X_cv_val)\n",
    "\n",
    "        val_accuracy.append((accuracy_score(y_cv_val, y_pred))*100)\n",
    "\n",
    "mean_val_accuracy=np.mean(val_accuracy)\n",
    "y_test_pred=gbd.predict(X_test)\n",
    "\n",
    "Label_names = []\n",
    "for labl in gbd.classes_:\n",
    "  if labl==1:\n",
    "    Label_names.append('Lantana')\n",
    "  if labl==3:\n",
    "    Label_names.append('Parthenium')\n",
    "  if labl==6:\n",
    "    Label_names.append('Siam Weed')\n",
    "  if labl==7:\n",
    "    Label_names.append('Snake Weed')\n",
    "\n",
    "\n",
    "cm = confusion_matrix(y_test, y_test_pred)\n",
    "test_accuracy=(accuracy_score(y_test,y_test_pred))*100\n",
    "disp = ConfusionMatrixDisplay(confusion_matrix=cm,display_labels=Label_names)\n",
    "disp.plot()\n",
    "\n",
    "plt.show()\n",
    "print(\"Validation accuracies: \" + str(val_accuracy))\n",
    "print(\"Mean validation accuracy: \" + str(mean_val_accuracy))\n",
    "print(\"Test Accuracy: \"+ str(test_accuracy))\n",
    "print('Classifcation Report: ')\n",
    "print(classification_report(y_test,y_test_pred))"
   ]
  },
  {
   "cell_type": "markdown",
   "metadata": {
    "id": "0H91YSUocbe3"
   },
   "source": [
    "https://scikit-learn.org/stable/modules/generated/sklearn.metrics.ConfusionMatrixDisplay.html\n",
    "\n",
    "https://machinelearningmastery.com/k-fold-cross-validation/\n",
    "\n",
    "https://scikit-learn.org/stable/modules/generated/sklearn.model_selection.KFold.html\n",
    "\n",
    "https://www.machinelearningplus.com/machine-learning/an-introduction-to-gradient-boosting-decision-trees/\n",
    "\n",
    "\n",
    "\n"
   ]
  },
  {
   "cell_type": "markdown",
   "metadata": {
    "id": "UHDksUE1PcZL"
   },
   "source": [
    "Perceptron"
   ]
  },
  {
   "cell_type": "code",
   "execution_count": 19,
   "metadata": {
    "colab": {
     "base_uri": "https://localhost:8080/",
     "height": 539
    },
    "id": "R3FuwJHzrnsn",
    "outputId": "52b0ed3d-46fc-4fd0-afdb-7b9d34275d24"
   },
   "outputs": [
    {
     "data": {
      "image/png": "[encoded data removed]",
      "text/plain": [
       "<Figure size 432x288 with 2 Axes>"
      ]
     },
     "metadata": {
      "needs_background": "light"
     },
     "output_type": "display_data"
    },
    {
     "name": "stdout",
     "output_type": "stream",
     "text": [
      "Validation accuracies: [54.041916167664674, 55.23952095808383, 55.23952095808383, 41.16766467065868, 33.43328335832084]\n",
      "Mean validation accuracy: 47.824381222562366\n",
      "Test Accuracy: 0.37753882915173237\n",
      "Classifcation Report: \n",
      "              precision    recall  f1-score   support\n",
      "\n",
      "           1       0.67      0.01      0.02       213\n",
      "           3       0.81      0.40      0.54       205\n",
      "           6       0.88      0.17      0.29       215\n",
      "           7       0.28      0.95      0.43       204\n",
      "\n",
      "    accuracy                           0.38       837\n",
      "   macro avg       0.66      0.38      0.32       837\n",
      "weighted avg       0.66      0.38      0.32       837\n",
      "\n"
     ]
    }
   ],
   "source": [
    "cv = KFold(n_splits=5, shuffle=True)\n",
    "val_accuracy=[]\n",
    "\n",
    "for train_idx, val_idx in cv.split(X_train):\n",
    "\n",
    "        X_cv_train, X_cv_val = X_train[train_idx], X_train[val_idx]\n",
    "        y_cv_train, y_cv_val = y_train[train_idx], y_train[val_idx]\n",
    "\n",
    "        ppn = Perceptron(tol=1e-3, random_state=0)\n",
    "\n",
    "        ppn.fit(X_cv_train, y_cv_train)\n",
    "\n",
    "        y_pred = ppn.predict(X_cv_val)\n",
    "\n",
    "        val_accuracy.append((accuracy_score(y_cv_val, y_pred))*100)\n",
    "\n",
    "mean_val_accuracy=np.mean(val_accuracy)\n",
    "y_test_pred=ppn.predict(X_test)\n",
    "\n",
    "Label_names = []\n",
    "for labl in ppn.classes_:\n",
    "  if labl==1:\n",
    "    Label_names.append('Lantana')\n",
    "  if labl==3:\n",
    "    Label_names.append('Parthenium')\n",
    "  if labl==6:\n",
    "    Label_names.append('Siam Weed')\n",
    "  if labl==7:\n",
    "    Label_names.append('Snake Weed')\n",
    "\n",
    "cm = confusion_matrix(y_test, y_test_pred)\n",
    "test_accuracy=accuracy_score(y_test,y_test_pred)\n",
    "disp = ConfusionMatrixDisplay(confusion_matrix=cm,display_labels=Label_names)\n",
    "disp.plot()\n",
    "\n",
    "plt.show()\n",
    "print(\"Validation accuracies: \" + str(val_accuracy))\n",
    "print(\"Mean validation accuracy: \" + str(mean_val_accuracy))\n",
    "print(\"Test Accuracy: \"+ str(test_accuracy))\n",
    "print('Classifcation Report: ')\n",
    "print(classification_report(y_test,y_test_pred))"
   ]
  },
  {
   "cell_type": "markdown",
   "metadata": {
    "id": "VcQ5hYZneIpa"
   },
   "source": [
    "https://scikit-learn.org/stable/modules/generated/sklearn.linear_model.Perceptron.html#sklearn.linear_model.Perceptron"
   ]
  },
  {
   "cell_type": "markdown",
   "metadata": {
    "id": "YNnT9DT1PfAM"
   },
   "source": [
    "Adaboost Classifier"
   ]
  },
  {
   "cell_type": "code",
   "execution_count": 20,
   "metadata": {
    "colab": {
     "base_uri": "https://localhost:8080/",
     "height": 539
    },
    "id": "QCjVspJ1sMNv",
    "outputId": "68721cf6-ed0a-4251-a524-c755a0a64bb6"
   },
   "outputs": [
    {
     "data": {
      "image/png": "[encoded data removed]",
      "text/plain": [
       "<Figure size 432x288 with 2 Axes>"
      ]
     },
     "metadata": {
      "needs_background": "light"
     },
     "output_type": "display_data"
    },
    {
     "name": "stdout",
     "output_type": "stream",
     "text": [
      "Validation accuracies: [55.53892215568862, 54.79041916167665, 56.137724550898206, 52.544910179640716, 53.67316341829086]\n",
      "Mean validation accuracy: 54.53702789323901\n",
      "Test Accuracy: 0.5424133811230586\n",
      "Classifcation Report: \n",
      "              precision    recall  f1-score   support\n",
      "\n",
      "           1       0.45      0.45      0.45       213\n",
      "           3       0.56      0.75      0.64       205\n",
      "           6       0.61      0.66      0.63       215\n",
      "           7       0.53      0.31      0.39       204\n",
      "\n",
      "    accuracy                           0.54       837\n",
      "   macro avg       0.54      0.54      0.53       837\n",
      "weighted avg       0.54      0.54      0.53       837\n",
      "\n"
     ]
    }
   ],
   "source": [
    "cv = KFold(n_splits=5, shuffle=True)\n",
    "val_accuracy=[]\n",
    "\n",
    "for train_idx, val_idx in cv.split(X_train):\n",
    "\n",
    "        X_cv_train, X_cv_val = X_train[train_idx], X_train[val_idx]\n",
    "        y_cv_train, y_cv_val = y_train[train_idx], y_train[val_idx]\n",
    "\n",
    "        ada = AdaBoostClassifier(n_estimators=100)\n",
    "\n",
    "        ada.fit(X_cv_train, y_cv_train)\n",
    "\n",
    "        y_pred = ada.predict(X_cv_val)\n",
    "\n",
    "        val_accuracy.append((accuracy_score(y_cv_val, y_pred))*100)\n",
    "\n",
    "mean_val_accuracy=np.mean(val_accuracy)\n",
    "y_test_pred=ada.predict(X_test)\n",
    "\n",
    "Label_names = []\n",
    "for labl in ada.classes_:\n",
    "  if labl==1:\n",
    "    Label_names.append('Lantana')\n",
    "  if labl==3:\n",
    "    Label_names.append('Parthenium')\n",
    "  if labl==6:\n",
    "    Label_names.append('Siam Weed')\n",
    "  if labl==7:\n",
    "    Label_names.append('Snake Weed')\n",
    "\n",
    "cm = confusion_matrix(y_test, y_test_pred)\n",
    "test_accuracy=accuracy_score(y_test,y_test_pred)\n",
    "disp = ConfusionMatrixDisplay(confusion_matrix=cm,display_labels=Label_names)\n",
    "disp.plot()\n",
    "\n",
    "plt.show()\n",
    "print(\"Validation accuracies: \" + str(val_accuracy))\n",
    "print(\"Mean validation accuracy: \" + str(mean_val_accuracy))\n",
    "print(\"Test Accuracy: \"+ str(test_accuracy))\n",
    "print('Classifcation Report: ')\n",
    "print(classification_report(y_test,y_test_pred))"
   ]
  },
  {
   "cell_type": "markdown",
   "metadata": {
    "id": "X6SugZQNfOhv"
   },
   "source": [
    "https://scikit-learn.org/stable/modules/ensemble.html#adaboost"
   ]
  },
  {
   "cell_type": "markdown",
   "metadata": {
    "id": "LJS4jyM8Pjrq"
   },
   "source": [
    "\n",
    "• Based on the confusion matrices (on the validation set), which do you think is the best method?\n",
    "Why? (1 point)\n",
    "\n",
    "As the diagonal elements represents the number of instances classified correctly, \n",
    "\n",
    "Gradient boosted classifier had 592 correctly classified\n",
    "\n",
    "perceptron classifier had 316 correctly classified\n",
    "\n",
    "Ada boost classifier had 454 correctly classified\n",
    "\n",
    "so, Gradient Boosted Classifier is the best model"
   ]
  },
  {
   "cell_type": "markdown",
   "metadata": {
    "id": "9HhBqQ_wP7Xc"
   },
   "source": [
    "• Based on the validation accuracies (from the 5-fold cross-validation) for the three methods. Which\n",
    "is the best method? (0.5 point)\n",
    "\n",
    "The validation accuracies for \n",
    "\n",
    "Gradient boosted Decision Tree classifier are [71.55688622754491, 72.30538922155688, 69.16167664670658, 70.05988023952095, 65.6671664167916] and mean is 69.75\n",
    "\n",
    "perceptron classifier are [54.041916167664674, 55.23952095808383, 55.23952095808383, 41.16766467065868, 33.43328335832084] and mean is 47.82\n",
    "\n",
    "Adaboost classifier are [55.53892215568862, 54.79041916167665, 56.137724550898206, 52.544910179640716, 53.67316341829086] and mean is 55.45\n",
    "\n",
    "So Gradient Boosted Decision Tree Classifier is the best method\n",
    "\n"
   ]
  },
  {
   "cell_type": "markdown",
   "metadata": {
    "id": "isx2X8OzP9OZ"
   },
   "source": [
    "• Computer the test accuracies for the three methods. Which is the best method? (0.5 point)\n",
    "\n",
    "The test accuracies for \n",
    "\n",
    "Gradient Boosted Decision Tree is 71%\n",
    "\n",
    "perceptron classifier is 38%\n",
    "\n",
    "Ada boost classifier is 54%\n",
    "\n",
    "So Gradient Boosted Decision Tree is the best method"
   ]
  },
  {
   "cell_type": "markdown",
   "metadata": {
    "id": "X2v2tXn1P_Y3"
   },
   "source": [
    "• Compute the F-measure for the three methods on the test set. Which is the best method? (1 point)\n",
    "\n",
    "The F-measure on the test set for\n",
    "\n",
    "Gradient boosted decision tree classifier is 61,79,75,69\n",
    "\n",
    "perceptron classifier is 2,54,29,43\n",
    "\n",
    "Ada boost classifier is 45,64,63,39\n",
    "\n",
    "So Gradient Boosted Decision Tree is the best method"
   ]
  }
 ],
 "metadata": {
  "accelerator": "GPU",
  "colab": {
   "machine_shape": "hm",
   "provenance": []
  },
  "gpuClass": "standard",
  "kernelspec": {
   "display_name": "Python 3 (ipykernel)",
   "language": "python",
   "name": "python3"
  },
  "language_info": {
   "codemirror_mode": {
    "name": "ipython",
    "version": 3
   },
   "file_extension": ".py",
   "mimetype": "text/x-python",
   "name": "python",
   "nbconvert_exporter": "python",
   "pygments_lexer": "ipython3",
   "version": "3.9.13"
  }
 },
 "nbformat": 4,
 "nbformat_minor": 1
}
